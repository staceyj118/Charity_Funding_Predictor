{
 "cells": [
  {
   "cell_type": "code",
   "execution_count": null,
   "metadata": {},
   "outputs": [],
   "source": [
    "#  Import and read the charity_data.csv.\n",
    "import pandas as pd \n",
    "df = pd.read_csv(\"Resources/charity_data.csv\")\n",
    "df.head()\n",
    "\n",
    "# 3. Preprocess the dataset like you did in Step 1, taking into account any modifications to optimize the model.\n",
    "# 4. Design a neural network model, taking into account any modifications that will optimize the model to achieve higher than 75% accuracy.\n",
    "# 5. Save and export your results to an HDF5 file, and name it `AlphabetSoupCharity_Optimization.h5`."
   ]
  }
 ],
 "metadata": {
  "kernelspec": {
   "display_name": "Python [conda env:PythonData]",
   "language": "python",
   "name": "conda-env-PythonData-py"
  },
  "language_info": {
   "codemirror_mode": {
    "name": "ipython",
    "version": 3
   },
   "file_extension": ".py",
   "mimetype": "text/x-python",
   "name": "python",
   "nbconvert_exporter": "python",
   "pygments_lexer": "ipython3",
   "version": "3.8.5"
  }
 },
 "nbformat": 4,
 "nbformat_minor": 4
}
